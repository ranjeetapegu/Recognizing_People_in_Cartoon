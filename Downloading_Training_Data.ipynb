{
 "cells": [
  {
   "cell_type": "markdown",
   "metadata": {},
   "source": [
    "### Downloading the images from Google search"
   ]
  },
  {
   "cell_type": "code",
   "execution_count": 1,
   "metadata": {
    "collapsed": true
   },
   "outputs": [],
   "source": [
    "from selenium import webdriver"
   ]
  },
  {
   "cell_type": "code",
   "execution_count": 2,
   "metadata": {
    "collapsed": true
   },
   "outputs": [],
   "source": [
    "from selenium import webdriver\n",
    "driver =webdriver.Chrome()\n"
   ]
  },
  {
   "cell_type": "code",
   "execution_count": 3,
   "metadata": {
    "collapsed": true
   },
   "outputs": [],
   "source": [
    "from giextractor import GoogleImageExtractor\n",
    "imageExtractor = GoogleImageExtractor()\n",
    "#imageExtractor.extract_images(imageQuery='barack obama caricature', imageCount=1000)"
   ]
  },
  {
   "cell_type": "code",
   "execution_count": 18,
   "metadata": {},
   "outputs": [
    {
     "name": "stdout",
     "output_type": "stream",
     "text": [
      "\u001b[33m\n",
      "Initializing Headless Chrome...\n",
      "\u001b[0m\n",
      "\u001b[32m\n",
      "Headless Chrome Initialized.\u001b[0m\n",
      "\u001b[33m\n",
      "Retrieving Image URLs...\u001b[0m\n"
     ]
    },
    {
     "name": "stderr",
     "output_type": "stream",
     "text": [
      "\r",
      "                                                                               \r",
      "\r",
      "Download: N/A% |                                     | ETA:  --:--:--   0.0 s/B"
     ]
    },
    {
     "name": "stdout",
     "output_type": "stream",
     "text": [
      "\u001b[32mImage URLs retrieved.\u001b[0m\n",
      "\u001b[33m\n",
      "Creating Storage Folder...\u001b[0m\n",
      "\u001b[32mStorage Folder - ./einstein_caricature created.\u001b[0m\n",
      "\n",
      "Downloading Images for the Query: einstein caricature\n"
     ]
    },
    {
     "name": "stderr",
     "output_type": "stream",
     "text": [
      "Download: 100% |#####################################| Time:  0:02:04   8.0 B/s\n"
     ]
    },
    {
     "name": "stdout",
     "output_type": "stream",
     "text": [
      "\u001b[32m\n",
      "\n",
      "Images Downloaded: 1003 of 1000 in 2 minutes and 4.52 seconds\n",
      "\u001b[0m\n"
     ]
    }
   ],
   "source": [
    "imageExtractor.extract_images(imageQuery='einstein caricature', imageCount=1000)"
   ]
  },
  {
   "cell_type": "code",
   "execution_count": 19,
   "metadata": {},
   "outputs": [
    {
     "name": "stdout",
     "output_type": "stream",
     "text": [
      "\u001b[33m\n",
      "Initializing Headless Chrome...\n",
      "\u001b[0m\n",
      "\u001b[32m\n",
      "Headless Chrome Initialized.\u001b[0m\n",
      "\u001b[33m\n",
      "Retrieving Image URLs...\u001b[0m\n"
     ]
    },
    {
     "name": "stderr",
     "output_type": "stream",
     "text": [
      "\r",
      "                                                                               \r",
      "\r",
      "Download: N/A% |                                     | ETA:  --:--:--   0.0 s/B"
     ]
    },
    {
     "name": "stdout",
     "output_type": "stream",
     "text": [
      "\u001b[32mImage URLs retrieved.\u001b[0m\n",
      "\u001b[33m\n",
      "Creating Storage Folder...\u001b[0m\n",
      "\u001b[32mStorage Folder - ./mahatma_gandhi_caricature created.\u001b[0m\n",
      "\n",
      "Downloading Images for the Query: mahatma gandhi caricature\n"
     ]
    },
    {
     "name": "stderr",
     "output_type": "stream",
     "text": [
      "Download: 100% |#####################################| Time:  0:03:23   4.9 B/s\n"
     ]
    },
    {
     "name": "stdout",
     "output_type": "stream",
     "text": [
      "\u001b[32m\n",
      "\n",
      "Images Downloaded: 1003 of 1000 in 3 minutes and 24 seconds\n",
      "\u001b[0m\n"
     ]
    }
   ],
   "source": [
    "imageExtractor.extract_images(imageQuery='mahatma gandhi caricature', imageCount=1000)"
   ]
  },
  {
   "cell_type": "code",
   "execution_count": 20,
   "metadata": {},
   "outputs": [
    {
     "name": "stdout",
     "output_type": "stream",
     "text": [
      "\u001b[33m\n",
      "Initializing Headless Chrome...\n",
      "\u001b[0m\n",
      "\u001b[32m\n",
      "Headless Chrome Initialized.\u001b[0m\n",
      "\u001b[33m\n",
      "Retrieving Image URLs...\u001b[0m\n"
     ]
    },
    {
     "name": "stderr",
     "output_type": "stream",
     "text": [
      "Download:   0% |                                     | ETA:   0:04:24   5.7 B/s"
     ]
    },
    {
     "name": "stdout",
     "output_type": "stream",
     "text": [
      "\u001b[32mImage URLs retrieved.\u001b[0m\n",
      "\u001b[33m\n",
      "Creating Storage Folder...\u001b[0m\n",
      "\u001b[32mStorage Folder - ./steve_jobs_caricature created.\u001b[0m\n",
      "\n",
      "Downloading Images for the Query: steve jobs caricature\n"
     ]
    },
    {
     "name": "stderr",
     "output_type": "stream",
     "text": [
      "Download: 100% |#####################################| Time:  0:02:35   9.7 B/s\n"
     ]
    },
    {
     "name": "stdout",
     "output_type": "stream",
     "text": [
      "\u001b[32m\n",
      "\n",
      "Images Downloaded: 1503 of 1500 in 2 minutes and 35.38 seconds\n",
      "\u001b[0m\n"
     ]
    }
   ],
   "source": [
    "imageExtractor.extract_images(imageQuery='steve jobs caricature', imageCount=1500)\n"
   ]
  },
  {
   "cell_type": "code",
   "execution_count": 21,
   "metadata": {},
   "outputs": [
    {
     "name": "stdout",
     "output_type": "stream",
     "text": [
      "\u001b[33m\n",
      "Initializing Headless Chrome...\n",
      "\u001b[0m\n",
      "\u001b[32m\n",
      "Headless Chrome Initialized.\u001b[0m\n",
      "\u001b[33m\n",
      "Retrieving Image URLs...\u001b[0m\n"
     ]
    },
    {
     "name": "stderr",
     "output_type": "stream",
     "text": [
      "\r",
      "                                                                               \r",
      "\r",
      "Download: N/A% |                                     | ETA:  --:--:--   0.0 s/B"
     ]
    },
    {
     "name": "stdout",
     "output_type": "stream",
     "text": [
      "\u001b[32mImage URLs retrieved.\u001b[0m\n",
      "\u001b[33m\n",
      "Creating Storage Folder...\u001b[0m\n",
      "\u001b[32mStorage Folder - ./Abraham_Lincon_caricature created.\u001b[0m\n",
      "\n",
      "Downloading Images for the Query: Abraham Lincon caricature\n"
     ]
    },
    {
     "name": "stderr",
     "output_type": "stream",
     "text": [
      "Download: 100% |#####################################| Time:  0:17:12   1.5 B/s\n"
     ]
    },
    {
     "name": "stdout",
     "output_type": "stream",
     "text": [
      "\u001b[32m\n",
      "\n",
      "Images Downloaded: 1379 of 1500 in 17 minutes and 12.31 seconds\n",
      "\u001b[0m\n"
     ]
    }
   ],
   "source": [
    "imageExtractor.extract_images(imageQuery='Abraham Lincon caricature', imageCount=1500)"
   ]
  },
  {
   "cell_type": "code",
   "execution_count": 4,
   "metadata": {},
   "outputs": [
    {
     "name": "stdout",
     "output_type": "stream",
     "text": [
      "\u001b[33m\n",
      "Initializing Headless Chrome...\n",
      "\u001b[0m\n",
      "\u001b[32m\n",
      "Headless Chrome Initialized.\u001b[0m\n",
      "\u001b[33m\n",
      "Retrieving Image URLs...\u001b[0m\n"
     ]
    },
    {
     "name": "stderr",
     "output_type": "stream",
     "text": [
      "\r",
      "                                                                               \r",
      "\r",
      "Download: N/A% |                                     | ETA:  --:--:--   0.0 s/B"
     ]
    },
    {
     "name": "stdout",
     "output_type": "stream",
     "text": [
      "\u001b[32mImage URLs retrieved.\u001b[0m\n",
      "\u001b[33m\n",
      "Creating Storage Folder...\u001b[0m\n",
      "\u001b[32mStorage Folder - ./Donald_Trump_caricature created.\u001b[0m\n",
      "\n",
      "Downloading Images for the Query: Donald Trump caricature\n"
     ]
    },
    {
     "name": "stderr",
     "output_type": "stream",
     "text": [
      "Download: 100% |#####################################| Time:  0:02:56   8.5 B/s\n"
     ]
    },
    {
     "name": "stdout",
     "output_type": "stream",
     "text": [
      "\u001b[32m\n",
      "\n",
      "Images Downloaded: 1503 of 1500 in 2 minutes and 56.75 seconds\n",
      "\u001b[0m\n"
     ]
    }
   ],
   "source": [
    "imageExtractor.extract_images(imageQuery='Donald Trump caricature', imageCount=1500)"
   ]
  },
  {
   "cell_type": "code",
   "execution_count": null,
   "metadata": {
    "collapsed": true
   },
   "outputs": [],
   "source": []
  }
 ],
 "metadata": {
  "kernelspec": {
   "display_name": "Python 3",
   "language": "python",
   "name": "python3"
  },
  "language_info": {
   "codemirror_mode": {
    "name": "ipython",
    "version": 3
   },
   "file_extension": ".py",
   "mimetype": "text/x-python",
   "name": "python",
   "nbconvert_exporter": "python",
   "pygments_lexer": "ipython3",
   "version": "3.5.4"
  }
 },
 "nbformat": 4,
 "nbformat_minor": 2
}
